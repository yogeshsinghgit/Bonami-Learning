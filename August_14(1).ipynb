{
  "nbformat": 4,
  "nbformat_minor": 0,
  "metadata": {
    "colab": {
      "provenance": [],
      "toc_visible": true
    },
    "kernelspec": {
      "name": "python3",
      "display_name": "Python 3"
    },
    "language_info": {
      "name": "python"
    }
  },
  "cells": [
    {
      "cell_type": "markdown",
      "source": [
        "# Python Core"
      ],
      "metadata": {
        "id": "nv3DziKpsUBp"
      }
    },
    {
      "cell_type": "markdown",
      "source": [
        "## Decorators\n",
        "\n",
        "\n",
        "Decorators allows to modify the behaviour of a function or class. Decorators allow us to wrap another function in order to extend the behaviour of the wrapped function, without permanently modifying it.\n",
        "\n",
        "example: route() the route decorator is used in python flask web framework, which automatically add the url_routing functionality to our user-defined function so we don't need to write the extra code to do so.\n",
        "\n",
        "A decorator is a **higher-order function**, meaning it takes a function as an argument and returns a new function that enhances or modifies the original one.\n",
        "\n",
        "In Decorators, functions are taken as the argument into another function and then called inside the wrapper function.\n",
        "\n",
        "\n",
        "\n",
        "\n",
        "```\n",
        "\n",
        "@my_decorator\n",
        "def hello_decorator():\n",
        "    print(\"Hello Decorator\")\n",
        "\n",
        "'''Above code is equivalent to -\n",
        "\n",
        "def hello_decorator():\n",
        "    print(\"Hello Decorator\")\n",
        "    \n",
        "hello_decorator = my_decorator(hello_decorator)'''\n",
        "```\n",
        "\n"
      ],
      "metadata": {
        "id": "cIL12rSnsvIK"
      }
    },
    {
      "cell_type": "code",
      "source": [
        "def my_decorator(func):\n",
        "    def wrapper(*args, **kwargs):\n",
        "        # Code to run before the function call\n",
        "        print(\"Something is happening before the function is called.\")\n",
        "\n",
        "        # Call the original function\n",
        "        result = func(*args, **kwargs)\n",
        "\n",
        "        # Code to run after the function call\n",
        "        print(\"Something is happening after the function is called.\")\n",
        "\n",
        "        return result\n",
        "    return wrapper\n"
      ],
      "metadata": {
        "id": "8PA5HaCRsWFh"
      },
      "execution_count": null,
      "outputs": []
    },
    {
      "cell_type": "code",
      "source": [
        "def my_decorator(func):\n",
        "    def wrapper(*args, **kwargs):\n",
        "      print(\"before orig function call\")\n",
        "\n",
        "      result = func(*args, **kwargs)\n",
        "\n",
        "      print(\"After orig function call\")\n",
        "\n",
        "      return result # return the result of the original function\n",
        "\n",
        "    return wrapper\n",
        "\n",
        "\n",
        "\n"
      ],
      "metadata": {
        "id": "pWXEz9bPvBvC"
      },
      "execution_count": null,
      "outputs": []
    },
    {
      "cell_type": "code",
      "source": [
        "### to apply the decorator to a function, use @decorator_name above the function definition\n",
        "\n",
        "@my_decorator\n",
        "def my_func(a, b):\n",
        "  print(\"Inside Original Function\")\n",
        "  return a+b\n",
        "\n",
        "\n",
        "\n",
        "result = my_func(2, 8)\n",
        "print(result)\n"
      ],
      "metadata": {
        "colab": {
          "base_uri": "https://localhost:8080/"
        },
        "id": "hmJjVWZJvlUd",
        "outputId": "36cee3d7-ad3f-4648-9153-e2f7af59d289"
      },
      "execution_count": null,
      "outputs": [
        {
          "output_type": "stream",
          "name": "stdout",
          "text": [
            "before orig function call\n",
            "Inside Original Function\n",
            "After orig function call\n",
            "10\n"
          ]
        }
      ]
    },
    {
      "cell_type": "markdown",
      "source": [
        "## Decorator with arguments..\n",
        "\n",
        "If you need a decorator that accepts arguments, you can create a decorator factory:\n",
        "\n",
        "Simply create a decorator function inside a normal function (let say deco_parent) and that function will take the argument for decorator and at last it will return the decorator , like decorator return wrapper function.\n",
        "In this case to apply decorator to a normal function, we will use @deco_parent(args)."
      ],
      "metadata": {
        "id": "lnKCJkiNSJas"
      }
    },
    {
      "cell_type": "code",
      "source": [
        "\n",
        "\n",
        "def deco_parent(n):\n",
        "  def decorator(func):\n",
        "    def wrapper(*args, **kwargs):\n",
        "      for _ in range(n):\n",
        "        result = func(*args, **kwargs)\n",
        "      return result\n",
        "    return wrapper\n",
        "  return decorator\n",
        "\n",
        "\n",
        "\n",
        "@deco_parent(3)\n",
        "def say_hello():\n",
        "    print(\"Hello!\")\n",
        "\n",
        "say_hello()"
      ],
      "metadata": {
        "colab": {
          "base_uri": "https://localhost:8080/"
        },
        "id": "j54CxK-8Upx4",
        "outputId": "1b384b53-6e80-4ae9-84e7-37d80e5855c9"
      },
      "execution_count": null,
      "outputs": [
        {
          "output_type": "stream",
          "name": "stdout",
          "text": [
            "Hello!\n",
            "Hello!\n",
            "Hello!\n"
          ]
        }
      ]
    },
    {
      "cell_type": "markdown",
      "source": [
        "## Decorator Questions:\n",
        "\n",
        "### When should you use decorators in Python?\n",
        "\n",
        "> Decorators are used to modify the behavior of functions or methods. Use them when you want to add functionality like logging, caching, or authentication to existing functions without modifying their source code. They help in separating concerns and improving code readability.\n",
        "\n",
        "\n",
        "### What is function vs decorators in Python?\n",
        "\n",
        "   \n",
        ">  * Function: A function in Python is a block of code that performs a specific task, accepts inputs (arguments), processes them, and optionally returns an output.\n",
        "\n",
        "> * Decorator: A decorator is a higher-order function that takes another function as an argument, adds some functionality, and returns a new function. It allows modifying or extending behavior of functions or methods.\n",
        "\n",
        "\n",
        "### What is the difference between wrapper and decorator in Python?\n",
        "\n",
        "\n",
        "> * A wrapper is the inner function defined within a decorator that actually performs the added functionality.\n",
        "\n",
        "> * A decorator is the outer function that takes a function as an argument, defines a wrapper function to modify it, and returns the wrapper.\n",
        "\n",
        "\n",
        "\n",
        "        \n",
        "    \n",
        "\n",
        "\n"
      ],
      "metadata": {
        "id": "-Q9LDRJRSlEn"
      }
    },
    {
      "cell_type": "markdown",
      "source": [
        "## Question:\n",
        "\n",
        "\n"
      ],
      "metadata": {
        "id": "L2m4uGhJTVJm"
      }
    },
    {
      "cell_type": "markdown",
      "source": [
        "### Access Control Decorator\n",
        "Create a decorator requires_authentication that only allows a function to execute if a user is authenticated. Assume the function receives a user object with an is_authenticated attribute."
      ],
      "metadata": {
        "id": "F5qvkfW4ZEXc"
      }
    },
    {
      "cell_type": "code",
      "source": [
        "user_dict = {\n",
        "    'Alex': '123456',\n",
        "    'Yogesh': 'qwert45'\n",
        "}\n",
        "\n",
        "def requires_authentication(func):\n",
        "  def wrapper(user_name, password):\n",
        "    if user_name in user_dict.keys():\n",
        "      if password == user_dict[user_name]:\n",
        "        result = func(user_name, password)\n",
        "      else:\n",
        "        return \"password doesn't match\"\n",
        "    else:\n",
        "      return \"No such user\"\n",
        "\n",
        "  return wrapper\n",
        "\n",
        "\n",
        "@requires_authentication\n",
        "def login(user_name, password):\n",
        "  print(f\"Welcome {user_name}, to your profile!\")\n",
        "\n",
        "\n",
        "login('Alex', '123456')"
      ],
      "metadata": {
        "colab": {
          "base_uri": "https://localhost:8080/"
        },
        "id": "u5VfCiQkwimo",
        "outputId": "2264a721-1eb0-470c-9beb-23dbe2543105"
      },
      "execution_count": null,
      "outputs": [
        {
          "output_type": "stream",
          "name": "stdout",
          "text": [
            "Welcome Alex, to your profile!\n"
          ]
        }
      ]
    },
    {
      "cell_type": "code",
      "source": [
        "login('Alex', 'wrong_password')\n"
      ],
      "metadata": {
        "colab": {
          "base_uri": "https://localhost:8080/",
          "height": 55
        },
        "id": "S8m5pHvyXnBK",
        "outputId": "4019929d-b13b-4490-aba0-81e3a67cca04"
      },
      "execution_count": null,
      "outputs": [
        {
          "output_type": "execute_result",
          "data": {
            "text/plain": [
              "\"password doesn't match\""
            ],
            "application/vnd.google.colaboratory.intrinsic+json": {
              "type": "string"
            }
          },
          "metadata": {},
          "execution_count": 4
        }
      ]
    },
    {
      "cell_type": "code",
      "source": [
        "login('UnknownUser', 'any_password')\n"
      ],
      "metadata": {
        "colab": {
          "base_uri": "https://localhost:8080/",
          "height": 55
        },
        "id": "YUhGkNp6YciC",
        "outputId": "52c90b21-6071-463a-ab24-c0088f50b225"
      },
      "execution_count": null,
      "outputs": [
        {
          "output_type": "execute_result",
          "data": {
            "text/plain": [
              "'No such user'"
            ],
            "application/vnd.google.colaboratory.intrinsic+json": {
              "type": "string"
            }
          },
          "metadata": {},
          "execution_count": 5
        }
      ]
    },
    {
      "cell_type": "markdown",
      "source": [
        "### Validating Function Arguments\n",
        "\n",
        "Create a decorator validate_args that checks if the arguments passed to a function are positive integers. If any argument is not a positive integer, the decorator should raise a ValueError."
      ],
      "metadata": {
        "id": "Id3MqbLhY7nD"
      }
    },
    {
      "cell_type": "code",
      "source": [
        "\n",
        "\n",
        "def validate_args(func):\n",
        "  def wrapper(a, b):\n",
        "    if a < 0 or b <0:\n",
        "      return 'Positive Integres Required'\n",
        "    else:\n",
        "      result = func(a, b)\n",
        "      return result\n",
        "  return wrapper"
      ],
      "metadata": {
        "id": "QRkkZA-gYhel"
      },
      "execution_count": null,
      "outputs": []
    },
    {
      "cell_type": "code",
      "source": [
        "\n",
        "@validate_args\n",
        "def multiply(a, b):\n",
        "    return a * b\n",
        "\n",
        "print(multiply(3, 4))  # Should return 12\n",
        "print(multiply(-3, 4))  # Should raise ValueError\n"
      ],
      "metadata": {
        "colab": {
          "base_uri": "https://localhost:8080/"
        },
        "id": "WdranFLYZOPT",
        "outputId": "84837870-c55d-48d6-c616-13b6af1ac486"
      },
      "execution_count": null,
      "outputs": [
        {
          "output_type": "stream",
          "name": "stdout",
          "text": [
            "12\n",
            "Positive Integres Required\n"
          ]
        }
      ]
    },
    {
      "cell_type": "markdown",
      "source": [
        "## Generator\n",
        "\n",
        "In Python, a generator is a function that returns an iterator that produces a sequence of values when iterated over.\n",
        "\n",
        "Generators are useful when we want to produce a large sequence of values, but we don't want to store all of them in memory at once.\n",
        "\n",
        "**Key Characteristics of a Generator Function:**\n",
        "\n",
        "* **yield Keyword:** Unlike a regular function that uses return to return a value and terminate, a generator uses the yield keyword to return a value and pause its state, allowing it to resume where it left off.\n",
        "\n",
        "* **Lazy Evaluation:** Generators produce items one at a time and only when required. This is useful when dealing with large data sets or streams of data.\n",
        "\n",
        "* **Memory Efficiency:** Generators don't store all the values in memory; they generate them on the fly.\n",
        "\n",
        "\n",
        "**Create Python Generator**\n",
        "\n",
        "In Python, similar to defining a normal function, we can define a generator function using the def keyword, but instead of the return statement we use the yield statement.\n",
        "\n",
        "```python\n",
        "def generator_name(arg):\n",
        "    # statements\n",
        "    yield something\n",
        "\n",
        "```\n",
        "\n",
        "\n",
        "\n",
        "> Here, the yield keyword is used to produce a value from the generator.\n",
        "\n",
        "When the generator function is called, it does not execute the function body immediately. Instead, it returns a generator object that can be iterated over to produce the values."
      ],
      "metadata": {
        "id": "mYzRBcOScEsr"
      }
    },
    {
      "cell_type": "code",
      "source": [
        "\n",
        "def gen_nums(max_val):\n",
        "  val = 1\n",
        "  while val <= max_val:\n",
        "    yield val\n",
        "\n",
        "    val+=1\n",
        "\n",
        "\n",
        "counter = gen_nums(5)\n",
        "\n",
        "print(\"First loop\")\n",
        "for num in counter:\n",
        "  print(num)\n",
        "\n",
        "print(\"second loop\")\n",
        "for num in counter:\n",
        "  print(num)\n"
      ],
      "metadata": {
        "colab": {
          "base_uri": "https://localhost:8080/"
        },
        "id": "V2J2DItdZ_73",
        "outputId": "f8ebb181-93cc-4abf-957d-861617afc222"
      },
      "execution_count": null,
      "outputs": [
        {
          "output_type": "stream",
          "name": "stdout",
          "text": [
            "First loop\n",
            "1\n",
            "2\n",
            "3\n",
            "4\n",
            "5\n",
            "second loop\n"
          ]
        }
      ]
    },
    {
      "cell_type": "markdown",
      "source": [
        "The reason, we didn't get any output in second loop is that, once the generator element is accessed then it will automatically released from memory."
      ],
      "metadata": {
        "id": "qpjVPvsxePCE"
      }
    },
    {
      "cell_type": "code",
      "source": [
        "def multi_yield():\n",
        "    yield \"First yield\"\n",
        "    yield \"Second yield\"\n",
        "    yield \"Third yield\"\n",
        "\n",
        "\n",
        "gen = multi_yield()\n",
        "\n",
        "# for message in gen:\n",
        "    # print(message)\n",
        "\n",
        "print(next(gen))"
      ],
      "metadata": {
        "colab": {
          "base_uri": "https://localhost:8080/"
        },
        "id": "xKglbujHe_Xm",
        "outputId": "11c9413e-7278-4b98-c6b9-c5a25d804b6e"
      },
      "execution_count": null,
      "outputs": [
        {
          "output_type": "stream",
          "name": "stdout",
          "text": [
            "First yield\n"
          ]
        }
      ]
    },
    {
      "cell_type": "code",
      "source": [
        "print(next(gen))"
      ],
      "metadata": {
        "colab": {
          "base_uri": "https://localhost:8080/"
        },
        "id": "jVvmKa7ofiPw",
        "outputId": "255d6533-fd40-4109-aa8c-4733ceb515a8"
      },
      "execution_count": null,
      "outputs": [
        {
          "output_type": "stream",
          "name": "stdout",
          "text": [
            "Second yield\n"
          ]
        }
      ]
    },
    {
      "cell_type": "markdown",
      "source": [
        "## Generator Questions:\n",
        "\n",
        "### yield statement:\n",
        "\n",
        "> The yield statement is used in a generator function to return a value and pause the function’s execution, preserving its state. When next() is called on the generator, execution resumes right after the yield."
      ],
      "metadata": {
        "id": "wJgdx9Qif5wC"
      }
    },
    {
      "cell_type": "code",
      "source": [
        "\n",
        "def gen_nums(max_val):\n",
        "  val = 1\n",
        "  print(\"bye\")\n",
        "  while val <= max_val:\n",
        "    print(\"Hello\")\n",
        "    yield val\n",
        "\n",
        "    val+=1\n",
        "\n",
        "\n",
        "counter = gen_nums(5)\n",
        "\n",
        "print(\"First loop\")\n",
        "for num in counter:\n",
        "  print(num)\n",
        "\n"
      ],
      "metadata": {
        "colab": {
          "base_uri": "https://localhost:8080/"
        },
        "id": "Sk_ZO6myf5mC",
        "outputId": "f216139b-0a7d-41a4-98d5-93c630d99c27"
      },
      "execution_count": null,
      "outputs": [
        {
          "output_type": "stream",
          "name": "stdout",
          "text": [
            "First loop\n",
            "bye\n",
            "Hello\n",
            "1\n",
            "Hello\n",
            "2\n",
            "Hello\n",
            "3\n",
            "Hello\n",
            "4\n",
            "Hello\n",
            "5\n"
          ]
        }
      ]
    },
    {
      "cell_type": "markdown",
      "source": [
        "## Iterator\n",
        "\n",
        "An iterator is an object that allows you to traverse through a sequence of values one at a time, and it includes two primary methods: __iter__() and __next__().\n",
        "\n",
        "\n",
        "\n",
        "**Key Concepts of Iterators**\n",
        "\n",
        "* Iterator Protocol:\n",
        "An iterator must implement two methods:\n",
        "\n",
        "  * __iter__(): This method should return the iterator object itself. It's required for the object to be an iterator.\n",
        "  * __next__(): This method returns the next value from the iterator. When there are no more items to return, it raises a StopIteration exception to signal that iteration is complete.\n",
        "\n",
        "* Creating an Iterator:\n",
        "   * To create an iterator, you define a class with __iter__() and __next__() methods. This class maintains the state needed for iteration."
      ],
      "metadata": {
        "id": "G6zWnzFaftex"
      }
    },
    {
      "cell_type": "code",
      "source": [
        "class CountDown:\n",
        "    def __init__(self, start):\n",
        "        self.start = start\n",
        "\n",
        "    def __iter__(self):\n",
        "        self.current = self.start\n",
        "        return self\n",
        "\n",
        "    def __next__(self):\n",
        "        if self.current < 0:\n",
        "            raise StopIteration\n",
        "        else:\n",
        "            self.current -= 1\n",
        "            return self.current + 1\n",
        "\n",
        "countdown = CountDown(5)\n",
        "for number in countdown:\n",
        "    print(number)\n"
      ],
      "metadata": {
        "id": "CekFAKFRjRux",
        "colab": {
          "base_uri": "https://localhost:8080/"
        },
        "outputId": "be11bea5-1ff1-44bb-96e9-b9d82db2d072"
      },
      "execution_count": null,
      "outputs": [
        {
          "output_type": "stream",
          "name": "stdout",
          "text": [
            "5\n",
            "4\n",
            "3\n",
            "2\n",
            "1\n",
            "0\n"
          ]
        }
      ]
    },
    {
      "cell_type": "markdown",
      "source": [
        "**Explanation:**\n",
        "\n",
        "* __init__(self, start): Initializes the iterator with a start value.\n",
        "* __iter__(self): Initializes the iterator’s internal state and returns the iterator object itself.\n",
        "* __next__(self): Returns the next value in the sequence and raises StopIteration when the sequence is exhausted."
      ],
      "metadata": {
        "id": "ms8NYWSkvhAz"
      }
    },
    {
      "cell_type": "code",
      "source": [
        "class MyIterator:\n",
        "    def __init__(self, start, end):\n",
        "        self.current = start\n",
        "        self.end = end\n",
        "\n",
        "    def __iter__(self):\n",
        "        return self\n",
        "\n",
        "    def __next__(self):\n",
        "        if self.current > self.end:\n",
        "            raise StopIteration\n",
        "        value = self.current\n",
        "        self.current += 1\n",
        "        return value\n",
        "\n",
        "it = MyIterator(1, 5)\n",
        "for number in it:\n",
        "    print(number)\n"
      ],
      "metadata": {
        "colab": {
          "base_uri": "https://localhost:8080/"
        },
        "id": "RU_3_0hCtFqr",
        "outputId": "f76d22de-6559-48f3-8476-0fa3799eb95f"
      },
      "execution_count": null,
      "outputs": [
        {
          "output_type": "stream",
          "name": "stdout",
          "text": [
            "1\n",
            "2\n",
            "3\n",
            "4\n",
            "5\n"
          ]
        }
      ]
    },
    {
      "cell_type": "code",
      "source": [
        "class IterRange:\n",
        "  def __init__(self, start, stop):\n",
        "    self.start = start\n",
        "    self.stop = stop\n",
        "\n",
        "  def __iter__(self):\n",
        "    return self\n",
        "\n",
        "  def __next__(self):\n",
        "    if self.start > self.stop:\n",
        "      raise StopIteration\n",
        "    value = self.start\n",
        "    self.start +=1\n",
        "    return value\n",
        "\n",
        "\n",
        "it = IterRange(1, 10)\n",
        "\n",
        "\n"
      ],
      "metadata": {
        "id": "RCO_bTy4tTns"
      },
      "execution_count": null,
      "outputs": []
    },
    {
      "cell_type": "code",
      "source": [
        "it.__next__()"
      ],
      "metadata": {
        "colab": {
          "base_uri": "https://localhost:8080/"
        },
        "id": "87AGTFXtuVVo",
        "outputId": "eca3f972-9814-4d0d-952e-8b5cc1432a09"
      },
      "execution_count": null,
      "outputs": [
        {
          "output_type": "execute_result",
          "data": {
            "text/plain": [
              "1"
            ]
          },
          "metadata": {},
          "execution_count": 4
        }
      ]
    },
    {
      "cell_type": "code",
      "source": [
        "it.__next__()"
      ],
      "metadata": {
        "colab": {
          "base_uri": "https://localhost:8080/"
        },
        "id": "Xt_OI9fduYZe",
        "outputId": "01c0e3d6-a338-45f8-ad52-27c2cfc4cabd"
      },
      "execution_count": null,
      "outputs": [
        {
          "output_type": "execute_result",
          "data": {
            "text/plain": [
              "2"
            ]
          },
          "metadata": {},
          "execution_count": 5
        }
      ]
    },
    {
      "cell_type": "code",
      "source": [
        "for i in it:\n",
        "  print(i)"
      ],
      "metadata": {
        "colab": {
          "base_uri": "https://localhost:8080/"
        },
        "id": "Vk22Z2rIuZsQ",
        "outputId": "566416d2-9c9b-4244-991f-c0597aff4c1e"
      },
      "execution_count": null,
      "outputs": [
        {
          "output_type": "stream",
          "name": "stdout",
          "text": [
            "1\n",
            "2\n",
            "3\n",
            "4\n",
            "5\n",
            "6\n",
            "7\n",
            "8\n",
            "9\n",
            "10\n"
          ]
        }
      ]
    },
    {
      "cell_type": "code",
      "source": [],
      "metadata": {
        "id": "zXA4wBwuub3o"
      },
      "execution_count": null,
      "outputs": []
    }
  ]
}