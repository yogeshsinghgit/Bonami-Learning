{
  "nbformat": 4,
  "nbformat_minor": 0,
  "metadata": {
    "colab": {
      "provenance": [],
      "toc_visible": true
    },
    "kernelspec": {
      "name": "python3",
      "display_name": "Python 3"
    },
    "language_info": {
      "name": "python"
    }
  },
  "cells": [
    {
      "cell_type": "markdown",
      "source": [
        "Here are some common Docker interview questions that range from basic to advanced, covering both conceptual and practical aspects of Docker:\n",
        "\n",
        "### Basic Docker Questions\n",
        "1. **What is Docker, and how does it differ from a virtual machine?**\n",
        "2. **Explain the difference between a Docker image and a Docker container.**\n",
        "3. **What is Docker Hub, and how is it used?**\n",
        "4. **How do you create a Docker container?**\n",
        "5. **What is the difference between `docker run` and `docker start`?**\n",
        "6. **How do you list all running Docker containers?**\n",
        "7. **What is a Dockerfile, and what is its purpose?**\n",
        "8. **Explain the Docker build process. How do you build an image from a Dockerfile?**\n",
        "9. **How do you delete a Docker container? What about an image?**\n",
        "10. **What is the purpose of the `.dockerignore` file?**\n",
        "\n",
        "### Intermediate Docker Questions\n",
        "1. **How do Docker volumes work, and what are they used for?**\n",
        "2. **What is the role of `ENTRYPOINT` and `CMD` in a Dockerfile? How do they differ?**\n",
        "3. **What is the purpose of exposing a port in a Docker container? How do you map container ports to host ports?**\n",
        "4. **How do you check logs for a running Docker container?**\n",
        "5. **How do you link containers in Docker? What is the modern alternative to linking?**\n",
        "6. **Explain Docker Compose and its use cases.**\n",
        "7. **How would you scale containers in Docker using Docker Compose?**\n",
        "8. **What is the difference between `COPY` and `ADD` in a Dockerfile?**\n",
        "9. **How would you update an existing Docker image with changes to the application code?**\n",
        "10. **What are Docker namespaces, and how do they provide isolation for containers?**\n",
        "\n",
        "### Advanced Docker Questions\n",
        "1. **What is Docker Swarm, and how does it differ from Kubernetes?**\n",
        "2. **What are some best practices for writing Dockerfiles to optimize build time and image size?**\n",
        "3. **How does Docker handle networking? Can you explain the different Docker network drivers?**\n",
        "4. **How do you troubleshoot container performance issues?**\n",
        "5. **What is the role of cgroups in Docker?**\n",
        "6. **How does Docker manage storage, and what are some storage drivers used by Docker?**\n",
        "7. **How do you handle secret management in Docker containers?**\n",
        "8. **What are multi-stage builds in Docker, and why are they useful?**\n",
        "9. **How would you deploy a Docker container to a production environment?**\n",
        "10. **Explain how Docker implements security features to isolate containers from each other and the host system.**\n",
        "\n",
        "### Practical Docker Questions\n",
        "1. **How do you inspect a Docker image or container to view metadata and configuration details?**\n",
        "2. **Explain how you would troubleshoot a container that is not starting properly.**\n",
        "3. **How do you persist data in Docker containers?**\n",
        "4. **Have you ever encountered the \"Docker Out of Disk Space\" issue? How would you handle it?**\n",
        "5. **Explain the process of creating a multi-container Docker application using Docker Compose.**\n",
        "\n",
        "These questions can help assess a candidate's understanding of Docker, ranging from basic usage to more complex real-world scenarios."
      ],
      "metadata": {
        "id": "5Viz8P351ZM1"
      }
    },
    {
      "cell_type": "markdown",
      "source": [
        "Here are some common GitHub interview questions, covering both basic and advanced aspects of using GitHub for version control and collaboration:\n",
        "\n",
        "### Basic GitHub Questions\n",
        "1. **What is GitHub, and how is it different from Git?**\n",
        "2. **What is a repository (repo) in GitHub?**\n",
        "3. **Explain the difference between a fork and a clone.**\n",
        "4. **How do you initialize a Git repository locally and push it to GitHub?**\n",
        "5. **What is a commit in Git, and how do you create one?**\n",
        "6. **How do you create a pull request on GitHub?**\n",
        "7. **What is a branch, and why would you use one in GitHub?**\n",
        "8. **Explain the difference between `git pull` and `git fetch`.**\n",
        "9. **How do you resolve merge conflicts in Git?**\n",
        "10. **What is the purpose of a `.gitignore` file?**\n",
        "\n",
        "### Intermediate GitHub Questions\n",
        "1. **How do you collaborate with others using GitHub?**\n",
        "2. **What is a tag in Git, and when would you use one?**\n",
        "3. **Explain the concept of branching strategies, like Git Flow or GitHub Flow.**\n",
        "4. **How do you undo a commit that has already been pushed to a GitHub repository?**\n",
        "5. **What is a rebase in Git, and how does it differ from a merge?**\n",
        "6. **How do you squash commits, and why would you want to do it?**\n",
        "7. **How would you handle code reviews in GitHub?**\n",
        "8. **How can you see the history of a file in GitHub?**\n",
        "9. **What is a pull request template, and how do you create one?**\n",
        "10. **Explain GitHub Actions and how you can use them for CI/CD pipelines.**\n",
        "\n",
        "### Advanced GitHub Questions\n",
        "1. **How do you protect a branch in a GitHub repository?**\n",
        "2. **What is GitHub Pages, and how would you use it to deploy a static site?**\n",
        "3. **How do you handle multiple remotes in Git?**\n",
        "4. **What are GitHub Issues, and how would you manage project tasks using them?**\n",
        "5. **Explain the concept of a GitHub webhook. How can it be used in integrations?**\n",
        "6. **What are Git submodules, and when would you use them?**\n",
        "7. **How would you handle a situation where someone force pushes changes to a shared branch?**\n",
        "8. **How can you automate releases on GitHub using GitHub Actions or third-party tools?**\n",
        "9. **What is Git LFS (Large File Storage), and when should you use it?**\n",
        "10. **How would you revert a commit in GitHub, and how does it differ from using `git reset`?**\n",
        "\n",
        "### Practical GitHub Questions\n",
        "1. **How do you set up SSH keys to authenticate with GitHub?**\n",
        "2. **Explain how you would fork a repository, make changes, and submit a pull request to the original project.**\n",
        "3. **How do you handle large binary files in GitHub repositories?**\n",
        "4. **What is the process for reverting a pull request after it has been merged?**\n",
        "5. **How do you enable continuous integration (CI) for a project using GitHub Actions?**\n",
        "\n",
        "These questions cover both the basic functionality and more advanced usage of GitHub, focusing on practical knowledge and best practices for using Git and GitHub in collaborative environments."
      ],
      "metadata": {
        "id": "jacu0ZMI1fGN"
      }
    },
    {
      "cell_type": "code",
      "source": [],
      "metadata": {
        "id": "NehJTieA1aqZ"
      },
      "execution_count": null,
      "outputs": []
    }
  ]
}