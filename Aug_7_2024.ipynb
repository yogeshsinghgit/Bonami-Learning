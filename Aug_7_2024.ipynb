{
  "nbformat": 4,
  "nbformat_minor": 0,
  "metadata": {
    "colab": {
      "provenance": [],
      "toc_visible": true
    },
    "kernelspec": {
      "name": "python3",
      "display_name": "Python 3"
    },
    "language_info": {
      "name": "python"
    }
  },
  "cells": [
    {
      "cell_type": "markdown",
      "source": [
        "## Linux Commands..\n",
        "\n",
        "1. [Link 1](https://www.digitalocean.com/community/tutorials/linux-commands#the-df-and-mount-commands)\n",
        "\n",
        "2. [Link 2](https://kinsta.com/blog/linux-commands/)"
      ],
      "metadata": {
        "id": "Q2BnOFuUV0lF"
      }
    },
    {
      "cell_type": "markdown",
      "source": [
        "# use of property decorator...\n",
        "\n",
        "[Source](https://realpython.com/python-property/)"
      ],
      "metadata": {
        "id": "Oe8Ntll8Tfub"
      }
    },
    {
      "cell_type": "code",
      "execution_count": null,
      "metadata": {
        "colab": {
          "base_uri": "https://localhost:8080/"
        },
        "id": "wHyc8tDwTPhZ",
        "outputId": "a0273345-c5bd-4495-c786-8be731d87232"
      },
      "outputs": [
        {
          "output_type": "stream",
          "name": "stdout",
          "text": [
            "Get radius\n",
            "3\n",
            "Set radius\n",
            "Value is out of range (10, 100)\n",
            "Get radius\n",
            "3\n"
          ]
        }
      ],
      "source": [
        "# circle.py\n",
        "# https://realpython.com/python-property/\n",
        "\n",
        "class Circle1:\n",
        "    def __init__(self, radius):\n",
        "        self.radius = radius\n",
        "\n",
        "\n",
        "class Circle:\n",
        "    def __init__(self, radius):\n",
        "        self._radius = radius\n",
        "\n",
        "    @property\n",
        "    def radius(self):\n",
        "        \"\"\"The radius property.\"\"\"\n",
        "        print(\"Get radius\")\n",
        "        return self._radius\n",
        "\n",
        "    @radius.setter\n",
        "    def radius(self, value):\n",
        "        print(\"Set radius\")\n",
        "        if value <=10 and value >=100:\n",
        "            self._radius = value\n",
        "        else:\n",
        "            print(\"Value is out of range (10, 100)\")\n",
        "\n",
        "    @radius.deleter\n",
        "    def radius(self):\n",
        "        print(\"Delete radius\")\n",
        "        del self._radius\n",
        "\n",
        "obj = Circle(3)\n",
        "print(obj.radius)\n",
        "obj.radius = 5\n",
        "print(obj.radius)"
      ]
    },
    {
      "cell_type": "code",
      "source": [
        "circle = Circle1(5)\n",
        "print(circle.radius)\n",
        "circle.radius = 10\n",
        "print(circle.radius)"
      ],
      "metadata": {
        "colab": {
          "base_uri": "https://localhost:8080/"
        },
        "id": "tU0gZ8_uhOj1",
        "outputId": "06486ec3-f9db-47bb-c92b-41a43a1d1c85"
      },
      "execution_count": null,
      "outputs": [
        {
          "output_type": "stream",
          "name": "stdout",
          "text": [
            "5\n",
            "10\n"
          ]
        }
      ]
    },
    {
      "cell_type": "code",
      "source": [
        "obj = Circle(5)\n",
        "print(obj.radius)\n",
        "obj.radius = 2\n",
        "print(obj.radius)"
      ],
      "metadata": {
        "colab": {
          "base_uri": "https://localhost:8080/"
        },
        "id": "RRlAYvbBhziz",
        "outputId": "b292b26c-76c9-4986-e942-da6e793da957"
      },
      "execution_count": null,
      "outputs": [
        {
          "output_type": "stream",
          "name": "stdout",
          "text": [
            "Get radius\n",
            "5\n",
            "Set radius\n",
            "Value is out of range (10, 100)\n",
            "Get radius\n",
            "5\n"
          ]
        }
      ]
    },
    {
      "cell_type": "markdown",
      "source": [
        "In the above code, clircle1 and circle are two class, cricle1 is implemented wihtout property decorator and circle is implemented using property decorator.\n",
        "\n",
        "both the class works fine until we want to add some conditions for new radius value, then in this case the Circle1 Implementation fails as we have to define a new setter function as well as we have to call a setter function in the main code base, will will be a headache if we imported and used that class in others part of packages or files.\n",
        "\n",
        "but in the Circle() class implemetation, we only have to change the definition of function defined in the class and didn't have to make any change where the setter methods is used, or value setting is done."
      ],
      "metadata": {
        "id": "k6o-ex3LTnld"
      }
    },
    {
      "cell_type": "markdown",
      "source": [
        "# Custom Exceptions with parameter passing\n",
        "\n",
        "[Source](https://www.pythontutorial.net/python-oop/python-custom-exception/)"
      ],
      "metadata": {
        "id": "CpGrMPcoW1gH"
      }
    },
    {
      "cell_type": "code",
      "source": [
        "\n",
        "# Custom Exceptions..\n",
        "\n",
        "\n",
        "# custom exception class\n",
        "class FahrenheitError(Exception):\n",
        "    min_f = 32\n",
        "    max_f = 212\n",
        "\n",
        "    # here we are creating an init and initializing f, as we are passing f value\n",
        "    # so we can use it in the str function...\n",
        "    def __init__(self, f, *args):\n",
        "        super().__init__(args)\n",
        "        self.f = f\n",
        "\n",
        "    def __str__(self):\n",
        "        return f'The {self.f} is not in a valid range {self.min_f, self.max_f}'\n",
        "\n",
        "\n",
        "# function where custom exception class would be called...\n",
        "def fahrenheit_to_celsius(f: float) -> float:\n",
        "    if f < FahrenheitError.min_f or f > FahrenheitError.max_f:\n",
        "        raise FahrenheitError(f)\n",
        "\n",
        "    return (f - 32) * 5 / 9\n",
        "\n",
        "\n",
        "if __name__ == '__main__':\n",
        "    f = input('Enter a temperature in Fahrenheit:')\n",
        "    try:\n",
        "        f = float(f)\n",
        "    except ValueError as ex:\n",
        "        print(type(ex),ex)\n",
        "    else:\n",
        "        try:\n",
        "            c = fahrenheit_to_celsius(float(f))\n",
        "        except FahrenheitError as ex:\n",
        "            print(ex)\n",
        "        else:\n",
        "            print(f'{f} Fahrenheit = {c:.4f} Celsius')"
      ],
      "metadata": {
        "colab": {
          "base_uri": "https://localhost:8080/"
        },
        "id": "dA7izDRCTmRk",
        "outputId": "8827854d-b08d-414e-96da-a27189a5e97e"
      },
      "execution_count": null,
      "outputs": [
        {
          "output_type": "stream",
          "name": "stdout",
          "text": [
            "Enter a temperature in Fahrenheit:45\n",
            "45.0 Fahrenheit = 7.2222 Celsius\n"
          ]
        }
      ]
    },
    {
      "cell_type": "code",
      "source": [],
      "metadata": {
        "id": "jmjavf7cXTkL"
      },
      "execution_count": null,
      "outputs": []
    },
    {
      "cell_type": "markdown",
      "source": [
        "# Abstract Class\n",
        "\n",
        "[Source](https://www.pythontutorial.net/python-oop/python-abstract-class/)"
      ],
      "metadata": {
        "id": "E9soaggpX_Oe"
      }
    },
    {
      "cell_type": "markdown",
      "source": [
        "Suppose that you need to develop a payroll program for a company.\n",
        "\n",
        "The company has two groups of employees: full-time employees and hourly employees. The full-time employees get a fixed salary while the hourly employees get paid by hourly wages for their services.\n",
        "\n",
        "The payroll program needs to print out a payroll that includes employee names and their monthly salaries.\n",
        "\n",
        "To model the payroll program in an object-oriented way, you may come up with the following classes: **Employee**, **FulltimeEmployee**, **HourlyEmployee**, and **Payroll**."
      ],
      "metadata": {
        "id": "vR0UbQtAcuWK"
      }
    },
    {
      "cell_type": "code",
      "source": [
        "\n",
        "from abc import ABC, abstractmethod\n",
        "\n",
        "class Employee(ABC):\n",
        "  def __init__(self, first_name, last_name):\n",
        "    self.first_name = first_name\n",
        "    self.last_name = last_name\n",
        "\n",
        "  @property\n",
        "  def full_name(self):\n",
        "    return f\"{self.first_name}, {self.last_name}\"\n",
        "\n",
        "  @abstractmethod\n",
        "  def get_salary(self):\n",
        "    pass\n",
        "\n",
        "\n",
        "\n",
        "#2 Full time employee class..\n",
        "\n",
        "class FulltimeEmployee(Employee):\n",
        "  def __init__(self, first_name, last_name, salary):\n",
        "    super().__init__(first_name, last_name)\n",
        "    self.salary = salary\n",
        "\n",
        "  def get_salary(self):\n",
        "    return self.salary\n",
        "\n",
        "\n",
        "class HourlyEmployee(Employee):\n",
        "  def __init__(self, first_name, last_name, worked_hours, rate):\n",
        "    super().__init__(first_name, last_name)\n",
        "    self.worked_hours = worked_hours\n",
        "    self.rate = rate\n",
        "\n",
        "\n",
        "  def get_salary(self):\n",
        "    return self.worked_hours*self.rate\n",
        "\n",
        "\n",
        "\n",
        "class Payroll:\n",
        "    def __init__(self):\n",
        "        self.employee_list = []\n",
        "\n",
        "    def add(self, employee):\n",
        "        self.employee_list.append(employee)\n",
        "\n",
        "    def print(self):\n",
        "        for e in self.employee_list:\n",
        "            print(f\"{e.full_name} \\t ${e.get_salary()}\")\n",
        "\n",
        "\n",
        "payroll = Payroll()\n",
        "\n",
        "payroll.add(FulltimeEmployee('John', 'Doe', 6000))\n",
        "payroll.add(FulltimeEmployee('Jane', 'Doe', 6500))\n",
        "payroll.add(FulltimeEmployee('Alex', 'Roy', 5000))\n",
        "payroll.add(HourlyEmployee('Jenifer', 'Smith', 200, 50))\n",
        "payroll.add(HourlyEmployee('David', 'Wilson', 150, 100))\n",
        "payroll.add(HourlyEmployee('Kevin', 'Miller', 100, 150))\n",
        "\n",
        "payroll.print()"
      ],
      "metadata": {
        "colab": {
          "base_uri": "https://localhost:8080/"
        },
        "id": "sAZkT68WYFgH",
        "outputId": "8564f3fd-be4d-49b5-bdae-44375f16b156"
      },
      "execution_count": null,
      "outputs": [
        {
          "output_type": "stream",
          "name": "stdout",
          "text": [
            "John, Doe \t $6000\n",
            "Jane, Doe \t $6500\n",
            "Alex, Roy \t $5000\n",
            "Jenifer, Smith \t $10000\n",
            "David, Wilson \t $15000\n",
            "Kevin, Miller \t $15000\n"
          ]
        }
      ]
    },
    {
      "cell_type": "markdown",
      "source": [
        "# Decorator\n",
        "\n",
        "[Source](https://www.pythontutorial.net/advanced-python/python-decorators/)"
      ],
      "metadata": {
        "id": "jH99ZPkLeS2u"
      }
    },
    {
      "cell_type": "code",
      "source": [
        "## Example..\n",
        "def currency(fn):\n",
        "    def wrapper(*args, **kwargs):\n",
        "        result = fn(*args, **kwargs)\n",
        "        return f'${result}'\n",
        "    return wrapper\n",
        "\n",
        "\n",
        "@currency\n",
        "def net_price(price, tax):\n",
        "    \"\"\" calculate the net price from price and tax\n",
        "    Arguments:\n",
        "        price: the selling price\n",
        "        tax: value added tax or sale tax\n",
        "    Return\n",
        "        the net price\n",
        "    \"\"\"\n",
        "    return price * (1 + tax)\n",
        "\n",
        "\n",
        "print(net_price(100, 0.05))"
      ],
      "metadata": {
        "colab": {
          "base_uri": "https://localhost:8080/"
        },
        "id": "C4bM6Vy9cWzP",
        "outputId": "de8c99d6-4733-49c1-ca83-3692bc12d9e9"
      },
      "execution_count": null,
      "outputs": [
        {
          "output_type": "stream",
          "name": "stdout",
          "text": [
            "$105.0\n"
          ]
        }
      ]
    },
    {
      "cell_type": "markdown",
      "source": [
        "# nonlocal keyword\n",
        "\n",
        "[Source- Python Tutorial](https://www.pythontutorial.net/advanced-python/python-nonlocal/)"
      ],
      "metadata": {
        "id": "FAizTRZHeriI"
      }
    },
    {
      "cell_type": "code",
      "source": [
        "colors = ['red', 'green', 'blue', 'orange']\n",
        "\n",
        "s = slice(0, 0, -1)\n",
        "t = s.indices(len(colors))\n",
        "\n",
        "for index in range(*t):\n",
        "    print(colors[index])"
      ],
      "metadata": {
        "id": "LCy6nW_TfrkM"
      },
      "execution_count": null,
      "outputs": []
    },
    {
      "cell_type": "markdown",
      "source": [
        "## Logging\n",
        "\n",
        "[How to use logging](https://www.digitalocean.com/community/tutorials/how-to-use-logging-in-python-3)"
      ],
      "metadata": {
        "id": "Xaono5f4meOx"
      }
    },
    {
      "cell_type": "markdown",
      "source": [
        "## Code without logging\n"
      ],
      "metadata": {
        "id": "oJVpRQEhmuNG"
      }
    },
    {
      "cell_type": "code",
      "source": [
        "class Pizza():\n",
        "    def __init__(self, name, price):\n",
        "        self.name = name\n",
        "        self.price = price\n",
        "        print(\"Pizza created: {} (${})\".format(self.name, self.price))\n",
        "\n",
        "    def make(self, quantity=1):\n",
        "        print(\"Made {} {} pizza(s)\".format(quantity, self.name))\n",
        "\n",
        "    def eat(self, quantity=1):\n",
        "        print(\"Ate {} pizza(s)\".format(quantity, self.name))\n",
        "\n",
        "pizza_01 = Pizza(\"artichoke\", 15)\n",
        "pizza_01.make()\n",
        "pizza_01.eat()\n",
        "\n",
        "pizza_02 = Pizza(\"margherita\", 12)\n",
        "pizza_02.make(2)\n",
        "pizza_02.eat()"
      ],
      "metadata": {
        "colab": {
          "base_uri": "https://localhost:8080/"
        },
        "id": "IXsWaqi7jMkk",
        "outputId": "58271667-21e6-41a4-b6d9-db865a5a847e"
      },
      "execution_count": null,
      "outputs": [
        {
          "output_type": "stream",
          "name": "stdout",
          "text": [
            "Pizza created: artichoke ($15)\n",
            "Made 1 artichoke pizza(s)\n",
            "Ate 1 pizza(s)\n",
            "Pizza created: margherita ($12)\n",
            "Made 2 margherita pizza(s)\n",
            "Ate 1 pizza(s)\n"
          ]
        }
      ]
    },
    {
      "cell_type": "markdown",
      "source": [
        "## code with logging"
      ],
      "metadata": {
        "id": "RYFgNzv1m0uz"
      }
    },
    {
      "cell_type": "code",
      "source": [
        "import logging\n",
        "\n",
        "logging.basicConfig(filename=\"test.log\", level=logging.DEBUG)\n",
        "\n",
        "\n",
        "class Pizza():\n",
        "    def __init__(self, name, price):\n",
        "        self.name = name\n",
        "        self.price = price\n",
        "        logging.debug(\"Pizza created: {} (${})\".format(self.name, self.price))\n",
        "\n",
        "    def make(self, quantity=1):\n",
        "        logging.debug(\"Made {} {} pizza(s)\".format(quantity, self.name))\n",
        "\n",
        "    def eat(self, quantity=1):\n",
        "        logging.debug(\"Ate {} pizza(s)\".format(quantity, self.name))\n",
        "\n",
        "pizza_01 = Pizza(\"artichoke\", 15)\n",
        "pizza_01.make()\n",
        "pizza_01.eat()\n",
        "\n",
        "pizza_02 = Pizza(\"margherita\", 12)\n",
        "pizza_02.make(2)\n",
        "pizza_02.eat()"
      ],
      "metadata": {
        "id": "qBdDGz00mw8s"
      },
      "execution_count": null,
      "outputs": []
    },
    {
      "cell_type": "code",
      "source": [],
      "metadata": {
        "id": "T-xMK_NdnW53"
      },
      "execution_count": null,
      "outputs": []
    }
  ]
}