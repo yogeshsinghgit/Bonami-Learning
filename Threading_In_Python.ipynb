{
  "nbformat": 4,
  "nbformat_minor": 0,
  "metadata": {
    "colab": {
      "provenance": [],
      "authorship_tag": "ABX9TyOF9VYF3hgANdQP5DcTsv33",
      "include_colab_link": true
    },
    "kernelspec": {
      "name": "python3",
      "display_name": "Python 3"
    },
    "language_info": {
      "name": "python"
    }
  },
  "cells": [
    {
      "cell_type": "markdown",
      "metadata": {
        "id": "view-in-github",
        "colab_type": "text"
      },
      "source": [
        "<a href=\"https://colab.research.google.com/github/yogeshsinghgit/Bonami-Learning/blob/main/Threading_In_Python.ipynb\" target=\"_parent\"><img src=\"https://colab.research.google.com/assets/colab-badge.svg\" alt=\"Open In Colab\"/></a>"
      ]
    },
    {
      "cell_type": "markdown",
      "source": [
        "## What is Threading?\n",
        "\n",
        "https://www.dataquest.io/blog/multithreading-in-python/\n",
        "\n",
        "**Threading in Python**\n",
        "\n",
        "Threading in Python allows you to execute multiple parts of your code concurrently within a single Python process. This can significantly improve the performance of programs that involve tasks that can be performed independently, such as:\n",
        "\n",
        "* **I/O-bound operations:** Dealing with files, network requests, or user input/output, where the program spends a lot of time waiting for external resources.\n",
        "* **CPU-bound operations:** Performing complex calculations that can be divided into smaller, independent units.\n",
        "\n",
        "**Prerequisite Concepts**\n",
        "\n",
        "1. **Processes:**\n",
        "   - A process is an independent execution of a program. It has its own memory space, resources, and execution context.\n",
        "   - Multiple processes can run concurrently, but they are relatively heavyweight and require more resources to manage.\n",
        "\n",
        "2. **Threads:**\n",
        "   - A thread is a lightweight unit of execution within a process.\n",
        "   - Threads share the same memory space and resources as other threads within the same process.\n",
        "   - This makes them more efficient than processes for tasks that require frequent communication and data sharing.\n",
        "\n",
        "3. **Concurrency vs. Parallelism:**\n",
        "   - **Concurrency** means that multiple tasks appear to be executing simultaneously. This can be achieved through techniques like threading or asynchronous programming.\n",
        "   - **Parallelism** means that multiple tasks are truly executing simultaneously, typically on multiple CPU cores.\n",
        "\n",
        "**Key Concepts in Python Threading**\n",
        "\n",
        "* **`threading` module:** This is the standard library module in Python for working with threads. It provides classes like `Thread`, `Lock`, `Semaphore`, etc.\n",
        "* **`Thread` class:** The core class for creating and managing threads. You create a `Thread` object and provide it with the target function to be executed by the thread.\n",
        "* **`start()` method:** Starts the execution of the thread.\n",
        "* **`join()` method:** Waits for the thread to complete before proceeding.\n",
        "* **Synchronization:** Mechanisms to coordinate the access of multiple threads to shared resources to prevent race conditions and data corruption. Common synchronization primitives include:\n",
        "    - **Locks:** Ensure that only one thread can access a critical section of code at a time.\n",
        "    - **Semaphores:** Control the number of threads that can access a resource concurrently.\n",
        "    - **Condition variables:** Allow threads to wait for a specific condition to become true.\n",
        "\n",
        "**Example**\n",
        "\n",
        "```python\n",
        "import threading\n",
        "\n",
        "def worker(num):\n",
        "    \"\"\"Function to be executed by each thread.\"\"\"\n",
        "    print(f\"Thread {num}: Starting\")\n",
        "    # Simulate some work\n",
        "    for _ in range(5):\n",
        "        print(f\"Thread {num}: Working...\")\n",
        "    print(f\"Thread {num}: Finished\")\n",
        "\n",
        "if __name__ == \"__main__\":\n",
        "    threads = []\n",
        "    for i in range(5):\n",
        "        thread = threading.Thread(target=worker, args=(i,))\n",
        "        threads.append(thread)\n",
        "        thread.start()\n",
        "\n",
        "    # Wait for all threads to complete\n",
        "    for thread in threads:\n",
        "        thread.join()\n",
        "```\n",
        "\n",
        "This example creates five threads, each executing the `worker` function with a unique identifier.\n",
        "\n",
        "**Important Notes:**\n",
        "\n",
        "* Threading can be more complex to implement correctly than it initially appears due to the potential for race conditions and synchronization issues.\n",
        "* Python's Global Interpreter Lock (GIL) can limit the true parallelism of threads in some cases.\n",
        "* For I/O-bound tasks, threading can often provide significant performance improvements. For CPU-bound tasks, the benefits of threading may be limited by the GIL.\n",
        "\n",
        "By understanding these concepts, you'll be well-equipped to leverage the power of threading in your Python programs to improve performance and responsiveness.\n"
      ],
      "metadata": {
        "id": "TmVKSbpTdr8m"
      }
    },
    {
      "cell_type": "markdown",
      "source": [
        "## Questions on Multithreading:\n",
        "\n",
        "**1. What is a Thread?**\n",
        "\n",
        "* **Definition:** A thread is the smallest unit of execution within a process. It's like a lightweight process that shares the same memory space and resources as other threads within the same process.\n",
        "* **Key Characteristics:**\n",
        "    * **Lightweight:** Threads have lower overhead than processes.\n",
        "    * **Resource Sharing:** Threads within a process share the same memory and resources.\n",
        "    * **Concurrency:** Threads enable concurrent execution, meaning multiple threads can appear to run simultaneously.\n",
        "\n",
        "**2. What are the Benefits of Multithreading?**\n",
        "\n",
        "* **Improved Performance:** Multithreading can significantly enhance the performance of applications, especially those that involve I/O-bound or CPU-bound tasks.\n",
        "* **Responsiveness:** By allowing multiple tasks to run concurrently, multithreading can make applications more responsive to user input.\n",
        "* **Resource Utilization:** Multithreading can effectively utilize multi-core processors by distributing tasks across multiple cores.\n",
        "\n",
        "**3. What is the Global Interpreter Lock (GIL) in Python?**\n",
        "\n",
        "* **Explanation:** The GIL is a mechanism in CPython (the most common Python implementation) that ensures only one thread can hold the control of the Python interpreter at a time.\n",
        "* **Impact:** The GIL can limit the true parallelism of threads in CPU-bound tasks, as only one thread can execute Python bytecode at a time.\n",
        "* **Mitigation:** For CPU-bound tasks, consider using the `multiprocessing` module, which creates separate Python processes, each with its own GIL.\n",
        "\n",
        "**4. What are Race Conditions and How to Avoid Them?**\n",
        "\n",
        "* **Definition:** Race conditions occur when multiple threads access and modify shared data concurrently, leading to unpredictable and incorrect results.\n",
        "* **Prevention:**\n",
        "    * **Synchronization Primitives:** Use mechanisms like locks, semaphores, and condition variables to control access to shared resources and ensure thread safety.\n",
        "    * **Thread-Safe Data Structures:** Utilize thread-safe data structures like `Queue` and `threading.local` to avoid data corruption.\n",
        "\n",
        "**5. Explain the Producer-Consumer Problem and How to Solve It Using Threads**\n",
        "\n",
        "* **Problem Statement:** The producer-consumer problem involves two types of threads: producers that generate data and consumers that consume it. The challenge is to synchronize data exchange between them.\n",
        "* **Solution:**\n",
        "    * Use a thread-safe queue (e.g., `queue.Queue`) to store data.\n",
        "    * Producers put data into the queue.\n",
        "    * Consumers take data from the queue.\n",
        "    * Synchronization mechanisms (e.g., locks) can be used to control access to the queue.\n",
        "\n",
        "**6. What are Daemon Threads?**\n",
        "\n",
        "* **Definition:** Daemon threads are background threads that are automatically terminated when the main program exits.\n",
        "* **Use Cases:** Daemon threads are often used for tasks like background processing or garbage collection.\n",
        "\n",
        "**7. How to Create and Start a Thread in Python?**\n",
        "\n",
        "* **Using `threading.Thread`:**\n",
        "    1. Create a `Thread` object, passing the target function and arguments.\n",
        "    2. Call the `start()` method to begin thread execution.\n",
        "\n",
        "**8. What is the `join()` Method in Threading?**\n",
        "\n",
        "* **Purpose:** The `join()` method waits for a thread to complete its execution before proceeding.\n",
        "\n",
        "**9. What are the Different States of a Thread?**\n",
        "\n",
        "* **New:** The thread has been created but not yet started.\n",
        "* **Runnable:** The thread is ready to run but may be waiting for CPU time.\n",
        "* **Running:** The thread is currently executing.\n",
        "* **Blocked:** The thread is temporarily paused, waiting for an event (e.g., I/O completion, lock acquisition).\n",
        "* **Terminated:** The thread has finished execution.\n",
        "\n",
        "**10. What are Some Common Threading Challenges?**\n",
        "\n",
        "* **Race Conditions:** Uncontrolled access to shared resources.\n",
        "* **Deadlocks:** A situation where two or more threads are blocked indefinitely, waiting for resources held by each other.\n",
        "* **Starvation:** A situation where a thread is unable to acquire the resources it needs to execute, even though the resources are available.\n",
        "\n",
        "I hope these theoretical questions provide a solid foundation for your understanding of threading concepts in Python.\n"
      ],
      "metadata": {
        "id": "t1rf3TKQeKg2"
      }
    },
    {
      "cell_type": "markdown",
      "source": [
        "## Coding Questions on Thread:\n"
      ],
      "metadata": {
        "id": "-xSqDGT2eZrl"
      }
    },
    {
      "cell_type": "markdown",
      "source": [
        "### Q1. Implement a python program using threading to print square and cube of list of numbers."
      ],
      "metadata": {
        "id": "3nqSQndxeq9b"
      }
    },
    {
      "cell_type": "code",
      "source": [
        "import threading\n",
        "import time\n",
        "\n",
        "def num_square(numbers):\n",
        "  for n in numbers:\n",
        "    print(f\"{n}^2 = {n**2}\")\n",
        "    time.sleep(1)\n",
        "\n",
        "\n",
        "def num_cube(numbers):\n",
        "  for n in numbers:\n",
        "    print(f\"{n}^3 = {n**3}\")\n",
        "    time.sleep(0.1)\n",
        "\n",
        "numbers = [1, 2, 3, 4, 5]\n",
        "\n",
        "square_thread = threading.Thread(target=num_square, args=(numbers,))\n",
        "cube_thread = threading.Thread(target=num_cube, args=(numbers,))\n",
        "\n",
        "square_thread.start()\n",
        "cube_thread.start()\n",
        "\n",
        "square_thread.join()\n",
        "cube_thread.join()"
      ],
      "metadata": {
        "colab": {
          "base_uri": "https://localhost:8080/"
        },
        "id": "0x6JCDsbe0ED",
        "outputId": "d7c41aab-19e1-4b36-a5a8-15068b36f7e7"
      },
      "execution_count": 3,
      "outputs": [
        {
          "output_type": "stream",
          "name": "stdout",
          "text": [
            "1^2 = 1\n",
            "1^3 = 1\n",
            "2^3 = 8\n",
            "3^3 = 27\n",
            "4^3 = 64\n",
            "5^3 = 125\n",
            "2^2 = 4\n",
            "3^2 = 9\n",
            "4^2 = 16\n",
            "5^2 = 25\n"
          ]
        }
      ]
    },
    {
      "cell_type": "markdown",
      "source": [
        "### Q2. . Prime Number Checker\n",
        "\n",
        "Problem:\n",
        "\n",
        "Create a program that checks for prime numbers within a given range. Use multiple threads to speed up the process."
      ],
      "metadata": {
        "id": "MKFURyEbgIGT"
      }
    },
    {
      "cell_type": "code",
      "source": [
        "import threading\n",
        "\n",
        "def is_prime(num):\n",
        "    \"\"\"Checks a number is prime or not\"\"\"\n",
        "    if num < 2:\n",
        "        return False\n",
        "    for i in range(2, int(num ** 0.5) + 1):\n",
        "        if num % i == 0:\n",
        "            return False\n",
        "    return True\n",
        "\n",
        "primes = []\n",
        "def check_primes(start, end):\n",
        "  \"\"\"Checks a numbers is prime or not within a range\"\"\"\n",
        "  for num in range(start, end+1):\n",
        "    if is_prime(num):\n",
        "        # print(f\"{num} is prime\")\n",
        "        primes.append(num)\n",
        "\n",
        "\n",
        "start_range = 2\n",
        "end_range = 1000\n",
        "num_threads = 4\n",
        "\n",
        "# Divide the range evenly among threads\n",
        "range_per_thread = (end_range - start_range) // num_threads\n",
        "\n",
        "\n",
        "threads = []\n",
        "for i in range(num_threads):\n",
        "    start = start_range + i * range_per_thread\n",
        "    end = start + range_per_thread - 1\n",
        "    thread = threading.Thread(target=check_primes, args=(start, end))\n",
        "    threads.append(thread)\n",
        "    thread.start()\n",
        "\n",
        "# Wait for all threads to finish\n",
        "for thread in threads:\n",
        "    thread.join()"
      ],
      "metadata": {
        "id": "NWbxycmwdzIl"
      },
      "execution_count": 17,
      "outputs": []
    },
    {
      "cell_type": "code",
      "source": [
        "len(primes)"
      ],
      "metadata": {
        "colab": {
          "base_uri": "https://localhost:8080/"
        },
        "id": "JBo8BxNqgtQb",
        "outputId": "14909857-0dc3-4cd1-fd7e-1301efb48897"
      },
      "execution_count": 18,
      "outputs": [
        {
          "output_type": "execute_result",
          "data": {
            "text/plain": [
              "168"
            ]
          },
          "metadata": {},
          "execution_count": 18
        }
      ]
    },
    {
      "cell_type": "markdown",
      "source": [
        "3. Downloading Multiple Files\n",
        "\n",
        "Problem:\n",
        "\n",
        "Create a program that downloads multiple files concurrently using threads."
      ],
      "metadata": {
        "id": "K05y9kEJj7cW"
      }
    },
    {
      "cell_type": "code",
      "source": [
        "import threading\n",
        "import requests\n",
        "\n",
        "def download_file(url, filename):\n",
        "    \"\"\"Downloads a file from a given URL.\"\"\"\n",
        "    try:\n",
        "        response = requests.get(url)\n",
        "        response.raise_for_status()  # Raise an exception for bad status codes\n",
        "\n",
        "        with open(filename, 'wb') as f:\n",
        "            f.write(response.content)\n",
        "        print(f\"Downloaded {filename}\")\n",
        "\n",
        "    except requests.exceptions.RequestException as e:\n",
        "        print(f\"Error downloading {filename}: {e}\")\n",
        "\n",
        "urls = [\n",
        "    \"https://thewowstyle.com/wp-content/uploads/2015/01/nature-wallpaper-27.jpg\",\n",
        "    \"https://www.example.com/file2.jpg\",\n",
        "    \"https://www.example.com/file3.zip\"\n",
        "]\n",
        "\n",
        "threads = []\n",
        "for url in urls:\n",
        "    filename = url.split('/')[-1]\n",
        "    thread = threading.Thread(target=download_file, args=(url, filename))\n",
        "    threads.append(thread)\n",
        "    thread.start()\n",
        "\n",
        "for thread in threads:\n",
        "    thread.join()"
      ],
      "metadata": {
        "colab": {
          "base_uri": "https://localhost:8080/"
        },
        "id": "JzJE9r9KiLdd",
        "outputId": "80cf3438-f45c-43ae-b8d4-43f59f61f106"
      },
      "execution_count": 20,
      "outputs": [
        {
          "output_type": "stream",
          "name": "stdout",
          "text": [
            "Error downloading file2.jpg: 404 Client Error: Not Found for url: https://www.example.com/file2.jpg\n",
            "Error downloading file3.zip: 404 Client Error: Not Found for url: https://www.example.com/file3.zip\n",
            "Downloaded nature-wallpaper-27.jpg\n"
          ]
        }
      ]
    },
    {
      "cell_type": "markdown",
      "source": [
        "### 4. Producer-Consumer Problem\n",
        "\n",
        "Problem:\n",
        "\n",
        "Implement a simple producer-consumer scenario using threads. The producer generates data, and the consumer consumes it. Use a queue to synchronize data exchange between the threads."
      ],
      "metadata": {
        "id": "zFE-xMb7k-Cn"
      }
    },
    {
      "cell_type": "code",
      "source": [
        "import threading\n",
        "import queue, time\n",
        "\n",
        "def producer(queue):\n",
        "    \"\"\"Produces data and puts it into the queue.\"\"\"\n",
        "    for i in range(10):\n",
        "        data = f\"Data {i}\"\n",
        "        print(f\"\\nProducer: Producing {data}\")\n",
        "        queue.put(data)\n",
        "        time.sleep(0.1)\n",
        "\n",
        "def consumer(queue):\n",
        "    \"\"\"Consumes data from the queue.\"\"\"\n",
        "    while True:\n",
        "        data = queue.get()\n",
        "        # print(data)\n",
        "        print(f\"Consumer: Consuming {data}\")\n",
        "        queue.task_done()\n",
        "\n",
        "# driver code..\n",
        "q = queue.Queue()\n",
        "\n",
        "producer_thread = threading.Thread(target=producer, args=(q,))\n",
        "consumer_thread = threading.Thread(target=consumer, args=(q,))\n",
        "\n",
        "producer_thread.start()\n",
        "consumer_thread.start()\n",
        "\n",
        "producer_thread.join()\n",
        "# Indicate that no more data will be produced\n",
        "q.join()"
      ],
      "metadata": {
        "colab": {
          "base_uri": "https://localhost:8080/"
        },
        "id": "-IE5bEI9kEZy",
        "outputId": "91dc3ef0-a900-447f-e7c7-ab14995abbc8"
      },
      "execution_count": 25,
      "outputs": [
        {
          "output_type": "stream",
          "name": "stdout",
          "text": [
            "\n",
            "Producer: Producing Data 0\n",
            "Consumer: Consuming Data 0\n",
            "\n",
            "Producer: Producing Data 1\n",
            "Consumer: Consuming Data 1\n",
            "\n",
            "Producer: Producing Data 2\n",
            "Consumer: Consuming Data 2\n",
            "\n",
            "Producer: Producing Data 3\n",
            "Consumer: Consuming Data 3\n",
            "\n",
            "Producer: Producing Data 4\n",
            "Consumer: Consuming Data 4\n",
            "\n",
            "Producer: Producing Data 5\n",
            "Consumer: Consuming Data 5\n",
            "\n",
            "Producer: Producing Data 6\n",
            "Consumer: Consuming Data 6\n",
            "\n",
            "Producer: Producing Data 7\n",
            "Consumer: Consuming Data 7\n",
            "\n",
            "Producer: Producing Data 8\n",
            "Consumer: Consuming Data 8\n",
            "\n",
            "Producer: Producing Data 9\n",
            "Consumer: Consuming Data 9\n"
          ]
        }
      ]
    },
    {
      "cell_type": "code",
      "source": [],
      "metadata": {
        "id": "W9iggOsYlE7t"
      },
      "execution_count": null,
      "outputs": []
    }
  ]
}