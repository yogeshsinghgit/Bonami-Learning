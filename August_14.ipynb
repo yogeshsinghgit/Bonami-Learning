{
  "nbformat": 4,
  "nbformat_minor": 0,
  "metadata": {
    "colab": {
      "provenance": [],
      "toc_visible": true
    },
    "kernelspec": {
      "name": "python3",
      "display_name": "Python 3"
    },
    "language_info": {
      "name": "python"
    }
  },
  "cells": [
    {
      "cell_type": "markdown",
      "source": [
        "# Python Core"
      ],
      "metadata": {
        "id": "nv3DziKpsUBp"
      }
    },
    {
      "cell_type": "markdown",
      "source": [
        "## Decorators\n",
        "\n",
        "\n",
        "Decorators allows to modify the behaviour of a function or class. Decorators allow us to wrap another function in order to extend the behaviour of the wrapped function, without permanently modifying it.\n",
        "\n",
        "example: route() the route decorator is used in python flask web framework, which automatically add the url_routing functionality to our user-defined function so we don't need to write the extra code to do so.\n",
        "\n",
        "A decorator is a **higher-order function**, meaning it takes a function as an argument and returns a new function that enhances or modifies the original one.\n",
        "\n",
        "In Decorators, functions are taken as the argument into another function and then called inside the wrapper function.\n",
        "\n",
        "\n",
        "\n",
        "\n",
        "```\n",
        "\n",
        "@my_decorator\n",
        "def hello_decorator():\n",
        "    print(\"Hello Decorator\")\n",
        "\n",
        "'''Above code is equivalent to -\n",
        "\n",
        "def hello_decorator():\n",
        "    print(\"Hello Decorator\")\n",
        "    \n",
        "hello_decorator = my_decorator(hello_decorator)'''\n",
        "```\n",
        "\n"
      ],
      "metadata": {
        "id": "cIL12rSnsvIK"
      }
    },
    {
      "cell_type": "code",
      "source": [
        "def my_decorator(func):\n",
        "    def wrapper(*args, **kwargs):\n",
        "        # Code to run before the function call\n",
        "        print(\"Something is happening before the function is called.\")\n",
        "\n",
        "        # Call the original function\n",
        "        result = func(*args, **kwargs)\n",
        "\n",
        "        # Code to run after the function call\n",
        "        print(\"Something is happening after the function is called.\")\n",
        "\n",
        "        return result\n",
        "    return wrapper\n"
      ],
      "metadata": {
        "id": "8PA5HaCRsWFh"
      },
      "execution_count": null,
      "outputs": []
    },
    {
      "cell_type": "code",
      "source": [
        "def my_decorator(func):\n",
        "    def wrapper(*args, **kwargs):\n",
        "      print(\"before orig function call\")\n",
        "\n",
        "      result = func(*args, **kwargs)\n",
        "\n",
        "      print(\"After orig function call\")\n",
        "\n",
        "      return result # return the result of the original function\n",
        "\n",
        "    return wrapper\n",
        "\n",
        "\n",
        "\n"
      ],
      "metadata": {
        "id": "pWXEz9bPvBvC"
      },
      "execution_count": 6,
      "outputs": []
    },
    {
      "cell_type": "code",
      "source": [
        "### to apply the decorator to a function, use @decorator_name above the function definition\n",
        "\n",
        "@my_decorator\n",
        "def my_func(a, b):\n",
        "  print(\"Inside Original Function\")\n",
        "  return a+b\n",
        "\n",
        "\n",
        "\n",
        "result = my_func(2, 8)\n",
        "print(result)\n"
      ],
      "metadata": {
        "colab": {
          "base_uri": "https://localhost:8080/"
        },
        "id": "hmJjVWZJvlUd",
        "outputId": "83ed6f78-b7d4-4db6-8ab8-7b2ff2182d25"
      },
      "execution_count": 7,
      "outputs": [
        {
          "output_type": "stream",
          "name": "stdout",
          "text": [
            "before orig function call\n",
            "Inside Original Function\n",
            "After orig function call\n",
            "10\n"
          ]
        }
      ]
    },
    {
      "cell_type": "markdown",
      "source": [
        "## Decorator with arguments..\n",
        "\n",
        "If you need a decorator that accepts arguments, you can create a decorator factory:\n",
        "\n",
        "Simply create a decorator function inside a normal function (let say deco_parent) and that function will take the argument for decorator and at last it will return the decorator , like decorator return wrapper function.\n",
        "In this case to apply decorator to a normal function, we will use @deco_parent(args)."
      ],
      "metadata": {
        "id": "lnKCJkiNSJas"
      }
    },
    {
      "cell_type": "code",
      "source": [
        "\n",
        "\n",
        "def deco_parent(n):\n",
        "  def decorator(func):\n",
        "    def wrapper(*args, **kwargs):\n",
        "      for _ in range(n):\n",
        "        result = func(*args, **kwargs)\n",
        "      return result\n",
        "    return wrapper\n",
        "  return decorator\n",
        "\n",
        "\n",
        "\n",
        "@deco_parent(3)\n",
        "def say_hello():\n",
        "    print(\"Hello!\")\n",
        "\n",
        "say_hello()"
      ],
      "metadata": {
        "colab": {
          "base_uri": "https://localhost:8080/"
        },
        "id": "j54CxK-8Upx4",
        "outputId": "1b384b53-6e80-4ae9-84e7-37d80e5855c9"
      },
      "execution_count": 10,
      "outputs": [
        {
          "output_type": "stream",
          "name": "stdout",
          "text": [
            "Hello!\n",
            "Hello!\n",
            "Hello!\n"
          ]
        }
      ]
    },
    {
      "cell_type": "markdown",
      "source": [
        "## Decorator Questions:\n",
        "\n",
        "### When should you use decorators in Python?\n",
        "\n",
        "> Decorators are used to modify the behavior of functions or methods. Use them when you want to add functionality like logging, caching, or authentication to existing functions without modifying their source code. They help in separating concerns and improving code readability.\n",
        "\n",
        "\n",
        "### What is function vs decorators in Python?\n",
        "\n",
        "   \n",
        ">  * Function: A function in Python is a block of code that performs a specific task, accepts inputs (arguments), processes them, and optionally returns an output.\n",
        "\n",
        "> * Decorator: A decorator is a higher-order function that takes another function as an argument, adds some functionality, and returns a new function. It allows modifying or extending behavior of functions or methods.\n",
        "\n",
        "\n",
        "### What is the difference between wrapper and decorator in Python?\n",
        "\n",
        "\n",
        "> * A wrapper is the inner function defined within a decorator that actually performs the added functionality.\n",
        "\n",
        "> * A decorator is the outer function that takes a function as an argument, defines a wrapper function to modify it, and returns the wrapper.\n",
        "\n",
        "\n",
        "\n",
        "        \n",
        "    \n",
        "\n",
        "\n"
      ],
      "metadata": {
        "id": "-Q9LDRJRSlEn"
      }
    },
    {
      "cell_type": "markdown",
      "source": [
        "## Question:\n",
        "\n",
        "\n"
      ],
      "metadata": {
        "id": "L2m4uGhJTVJm"
      }
    },
    {
      "cell_type": "markdown",
      "source": [
        "### Access Control Decorator\n",
        "Create a decorator requires_authentication that only allows a function to execute if a user is authenticated. Assume the function receives a user object with an is_authenticated attribute."
      ],
      "metadata": {
        "id": "F5qvkfW4ZEXc"
      }
    },
    {
      "cell_type": "code",
      "source": [
        "user_dict = {\n",
        "    'Alex': '123456',\n",
        "    'Yogesh': 'qwert45'\n",
        "}\n",
        "\n",
        "def requires_authentication(func):\n",
        "  def wrapper(user_name, password):\n",
        "    if user_name in user_dict.keys():\n",
        "      if password == user_dict[user_name]:\n",
        "        result = func(user_name, password)\n",
        "      else:\n",
        "        return \"password doesn't match\"\n",
        "    else:\n",
        "      return \"No such user\"\n",
        "\n",
        "  return wrapper\n",
        "\n",
        "\n",
        "@requires_authentication\n",
        "def login(user_name, password):\n",
        "  print(f\"Welcome {user_name}, to your profile!\")\n",
        "\n",
        "\n",
        "login('Alex', '123456')"
      ],
      "metadata": {
        "colab": {
          "base_uri": "https://localhost:8080/"
        },
        "id": "u5VfCiQkwimo",
        "outputId": "3f54ed19-9552-488d-86b1-dad7144ce8f4"
      },
      "execution_count": 19,
      "outputs": [
        {
          "output_type": "stream",
          "name": "stdout",
          "text": [
            "Welcome Alex, to your profile!\n"
          ]
        }
      ]
    },
    {
      "cell_type": "code",
      "source": [
        "login('Alex', 'wrong_password')\n"
      ],
      "metadata": {
        "colab": {
          "base_uri": "https://localhost:8080/",
          "height": 35
        },
        "id": "S8m5pHvyXnBK",
        "outputId": "ee7bd87d-a26a-4c2d-84c3-8f744839c2a3"
      },
      "execution_count": 20,
      "outputs": [
        {
          "output_type": "execute_result",
          "data": {
            "text/plain": [
              "\"password doesn't match\""
            ],
            "application/vnd.google.colaboratory.intrinsic+json": {
              "type": "string"
            }
          },
          "metadata": {},
          "execution_count": 20
        }
      ]
    },
    {
      "cell_type": "code",
      "source": [
        "login('UnknownUser', 'any_password')\n"
      ],
      "metadata": {
        "colab": {
          "base_uri": "https://localhost:8080/",
          "height": 35
        },
        "id": "YUhGkNp6YciC",
        "outputId": "742b8c8d-a1d5-40ba-8239-7745876188c5"
      },
      "execution_count": 21,
      "outputs": [
        {
          "output_type": "execute_result",
          "data": {
            "text/plain": [
              "'No such user'"
            ],
            "application/vnd.google.colaboratory.intrinsic+json": {
              "type": "string"
            }
          },
          "metadata": {},
          "execution_count": 21
        }
      ]
    },
    {
      "cell_type": "markdown",
      "source": [
        "### Validating Function Arguments\n",
        "\n",
        "Create a decorator validate_args that checks if the arguments passed to a function are positive integers. If any argument is not a positive integer, the decorator should raise a ValueError."
      ],
      "metadata": {
        "id": "Id3MqbLhY7nD"
      }
    },
    {
      "cell_type": "code",
      "source": [
        "\n",
        "\n",
        "def validate_args(func):\n",
        "  def wrapper(a, b):\n",
        "    if a < 0 or b <0:\n",
        "      return 'Positive Integres Required'\n",
        "    else:\n",
        "      result = func(a, b)\n",
        "      return result\n",
        "  return wrapper"
      ],
      "metadata": {
        "id": "QRkkZA-gYhel"
      },
      "execution_count": 25,
      "outputs": []
    },
    {
      "cell_type": "code",
      "source": [
        "\n",
        "@validate_args\n",
        "def multiply(a, b):\n",
        "    return a * b\n",
        "\n",
        "print(multiply(3, 4))  # Should return 12\n",
        "print(multiply(-3, 4))  # Should raise ValueError\n"
      ],
      "metadata": {
        "colab": {
          "base_uri": "https://localhost:8080/"
        },
        "id": "WdranFLYZOPT",
        "outputId": "58641fc4-c89b-4e2d-a2b6-6eedc0f187bd"
      },
      "execution_count": 26,
      "outputs": [
        {
          "output_type": "stream",
          "name": "stdout",
          "text": [
            "12\n",
            "Positive Integres Required\n"
          ]
        }
      ]
    },
    {
      "cell_type": "code",
      "source": [],
      "metadata": {
        "id": "V2J2DItdZ_73"
      },
      "execution_count": null,
      "outputs": []
    }
  ]
}