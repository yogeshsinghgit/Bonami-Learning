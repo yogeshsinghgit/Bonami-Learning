{
  "nbformat": 4,
  "nbformat_minor": 0,
  "metadata": {
    "colab": {
      "provenance": [],
      "toc_visible": true
    },
    "kernelspec": {
      "name": "python3",
      "display_name": "Python 3"
    },
    "language_info": {
      "name": "python"
    }
  },
  "cells": [
    {
      "cell_type": "markdown",
      "source": [
        "# Python Core"
      ],
      "metadata": {
        "id": "Ue1V7YzLX3cc"
      }
    },
    {
      "cell_type": "markdown",
      "source": [
        "\n",
        "## **Static Method...**\n",
        "\n",
        "A static method in Python is a *method that belongs to a class but does not require access to any instance or class-level data*.\n",
        "\n",
        "It is defined using the **@staticmethod decorator** and can be called on the class itself or on an instance of the class.\n",
        "\n",
        "Static methods *do not take a self or cls parameter, which means they cannot modify object state or class state*.\n",
        "\n",
        "\n",
        "### Characteristics of Static Methods:\n",
        "\n",
        "* **No Access to Instance or Class Data:** Static methods do not have access to the instance (self) or class (cls) and therefore cannot modify instance or class attributes.\n",
        "\n",
        "* **Utility Functions:** Static methods are often used to define utility functions related to the class, but not dependent on the state of the class or instances.\n",
        "\n",
        "A **utility function** in Python is a small, self-contained piece of code that performs a specific task."
      ],
      "metadata": {
        "id": "PhbqjVgJWf9M"
      }
    },
    {
      "cell_type": "code",
      "source": [
        "class MathUtils:\n",
        "  @staticmethod\n",
        "  def add(a, b):\n",
        "    return a+b\n",
        "\n",
        "  @staticmethod\n",
        "  def multply(a, b):\n",
        "    return a*b\n",
        "\n",
        "\n",
        "# calling static methods....\n",
        "print(MathUtils.add(3, 8))  # using class name\n",
        "\n",
        "obj = MathUtils()\n",
        "print(obj.multply(5, 6)) # using object..."
      ],
      "metadata": {
        "colab": {
          "base_uri": "https://localhost:8080/"
        },
        "id": "lobKuSzFYBJc",
        "outputId": "6586290d-6d98-435b-eb85-501d055d169b"
      },
      "execution_count": null,
      "outputs": [
        {
          "output_type": "stream",
          "name": "stdout",
          "text": [
            "11\n",
            "30\n"
          ]
        }
      ]
    },
    {
      "cell_type": "markdown",
      "source": [
        "### **Questions:**"
      ],
      "metadata": {
        "id": "6gwfo8Z0Yx3S"
      }
    },
    {
      "cell_type": "markdown",
      "source": [
        "### What is a static method, and how does it differ from instance and class methods in Python?\n",
        "\n",
        "\n",
        "* **Instance Method :** requires access to the instance ('self') and can modify object state.\n",
        "\n",
        "* **Class Method :**  Requires access to the class ('cls') and modify the class state.\n",
        "\n",
        "* **Static Method :** Neither access the instance nor the class; they don't modify object or class state.\n",
        "\n",
        "> **static method** is ideal when you need a method that belong to a class logically but doesn't need to interact with the class or its instance."
      ],
      "metadata": {
        "id": "ERSAnuzCYb0U"
      }
    },
    {
      "cell_type": "markdown",
      "source": [
        "### Can static methods access or modify instance or class-level data? Why or why not?\n",
        "\n",
        "No, *static methods cannot access or modify instance or class-level data directly.* Here's why:\n",
        "\n",
        "1. **No Access to self or cls:**\n",
        "\n",
        "    * Instance methods take self as their first parameter, which allows them to access and modify instance-specific data (attributes).\n",
        "\n",
        "    * Class methods take cls as their first parameter, allowing them to access and modify class-level data (attributes shared among all instances of the class).\n",
        "\n",
        "In contrast, **static methods** do not take self or cls as parameters. This means they have no reference to the specific instance of the class (self) or the class itself (cls). As a result, they cannot access or modify instance attributes or class attributes.\n",
        "\n",
        "2. **Independent of Object or Class State:**\n",
        "\n",
        "Static methods are designed to be utility functions that are related to the class but do not depend on the state of any particular object (instance) or the class itself. They operate independently, which is why they are not given access to self or cls."
      ],
      "metadata": {
        "id": "5PX4iXonaVJj"
      }
    },
    {
      "cell_type": "markdown",
      "source": [
        "### Is it possible to override a static method in a subclass? How would this be done?\n",
        "\n",
        "\n",
        "Yes, it is possible to override a static method in a subclass. Just like with regular methods, if you define a static method with the same name in a subclass, it will override the static method in the superclass.\n",
        "\n",
        "**How to Override a Static Method:**\n",
        "\n",
        "When you override a static method in a subclass, you simply redefine the method in the subclass with the same name. The new method will replace the original method when called on instances of the subclass or when called using the subclass name."
      ],
      "metadata": {
        "id": "DcMPrehYbl0V"
      }
    },
    {
      "cell_type": "code",
      "source": [
        "class ParentClass:\n",
        "    @staticmethod\n",
        "    def static_method():\n",
        "        print(\"Static method in ParentClass.\")\n",
        "\n",
        "class ChildClass(ParentClass):\n",
        "    @staticmethod\n",
        "    def static_method():\n",
        "        print(\"Static method in ChildClass.\")\n",
        "\n",
        "# Call the static method using the class names\n",
        "ParentClass.static_method()  # Output: \"Static method in ParentClass.\"\n",
        "ChildClass.static_method()   # Output: \"Static method in ChildClass.\"\n",
        "\n",
        "# Call the static method using an instance of the classes\n",
        "parent_instance = ParentClass()\n",
        "child_instance = ChildClass()\n",
        "\n",
        "parent_instance.static_method()  # Output: \"Static method in ParentClass.\"\n",
        "child_instance.static_method()   # Output: \"Static method in ChildClass.\"\n"
      ],
      "metadata": {
        "colab": {
          "base_uri": "https://localhost:8080/"
        },
        "id": "F_CYYZyPatr_",
        "outputId": "8b3e41b4-8e6b-490c-df55-56bfcfe55bc0"
      },
      "execution_count": null,
      "outputs": [
        {
          "output_type": "stream",
          "name": "stdout",
          "text": [
            "Static method in ParentClass.\n",
            "Static method in ChildClass.\n",
            "Static method in ParentClass.\n",
            "Static method in ChildClass.\n"
          ]
        }
      ]
    },
    {
      "cell_type": "markdown",
      "source": [
        "## **Data Class...**\n",
        "\n",
        "A data class in Python is a simple way to create classes that are primarily used to store data without having to write a lot of boilerplate code.\n",
        "\n",
        "Data classes automatically generate special methods like __init__, __repr__, __eq__, and others based on the class attributes.\n",
        "\n",
        "This makes it easier to create classes that are used mainly for holding data, similar to structs in other programming languages.\n",
        "\n",
        "\n",
        "**How to create dataclass**"
      ],
      "metadata": {
        "id": "jYPL8e-ecl1D"
      }
    },
    {
      "cell_type": "markdown",
      "source": [
        "## \\_\\_str__ VS \\_\\_repr__"
      ],
      "metadata": {
        "id": "1L2jKXUUdOpU"
      }
    },
    {
      "cell_type": "code",
      "source": [
        "class Person:\n",
        "    def __init__(self, name, age):\n",
        "        self.name = name\n",
        "        self.age = age\n",
        "\n",
        "    def __repr__(self):\n",
        "        return f\"Person(name={self.name!r}, age={self.age!r})\"\n",
        "\n",
        "    def __str__(self):\n",
        "        return f\"{self.name}, aged {self.age}\"\n",
        "\n",
        "p = Person(\"Alice\", 30)\n",
        "\n",
        "print(repr(p))  # Output: Person(name='Alice', age=30)\n",
        "print(str(p))   # Output: Alice, aged 30\n"
      ],
      "metadata": {
        "colab": {
          "base_uri": "https://localhost:8080/"
        },
        "id": "QjBX4Shwb6ew",
        "outputId": "0bc7ced5-e85e-4ce4-8c91-1321a35c1654"
      },
      "execution_count": null,
      "outputs": [
        {
          "output_type": "stream",
          "name": "stdout",
          "text": [
            "Person(name='Alice', age=30)\n",
            "Alice, aged 30\n"
          ]
        }
      ]
    },
    {
      "cell_type": "code",
      "source": [
        "p"
      ],
      "metadata": {
        "colab": {
          "base_uri": "https://localhost:8080/"
        },
        "id": "K-dhTmrVdHai",
        "outputId": "d45157c3-24c0-4e49-e13c-3521ddfc3de5"
      },
      "execution_count": null,
      "outputs": [
        {
          "output_type": "execute_result",
          "data": {
            "text/plain": [
              "Person(name='Alice', age=30)"
            ]
          },
          "metadata": {},
          "execution_count": 5
        }
      ]
    },
    {
      "cell_type": "markdown",
      "source": [
        "https://www.datacamp.com/tutorial/sqlalchemy-tutorial-examples\n",
        "\n",
        "https://www.geeksforgeeks.org/sqlalchemy-orm-query/"
      ],
      "metadata": {
        "id": "6fJ5J3AriWLV"
      }
    }
  ]
}